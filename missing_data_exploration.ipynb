{
 "cells": [
  {
   "cell_type": "code",
   "execution_count": 2,
   "id": "02d1e693",
   "metadata": {},
   "outputs": [],
   "source": [
    "import numpy as np\n",
    "import statsmodels.api as sm\n",
    "import pandas as pd"
   ]
  },
  {
   "cell_type": "code",
   "execution_count": 3,
   "id": "4c12b2ff",
   "metadata": {},
   "outputs": [],
   "source": [
    "fn = 'missing_data_exploration/230411wave2_3.csv'\n",
    "df = pd.read_csv(fn)\n",
    "df.drop('Unnamed: 0', axis=1, inplace=True)"
   ]
  },
  {
   "cell_type": "code",
   "execution_count": 17,
   "id": "70559e21",
   "metadata": {},
   "outputs": [],
   "source": [
    "# create extra version for just the W2 version\n",
    "dfw2 = df.copy()\n",
    "dfw2.drop(['W3_Dep_Total', 'W3_GAD_Total'], axis=1, inplace=True)"
   ]
  },
  {
   "cell_type": "code",
   "execution_count": 64,
   "id": "a10b00e1",
   "metadata": {},
   "outputs": [
    {
     "name": "stdout",
     "output_type": "stream",
     "text": [
      "num missing w2:  5.761024182076814 1406\n",
      "num missing w2 w3:  32.432432432432435 1406\n"
     ]
    }
   ],
   "source": [
    "# keyworker = [-99, -9] actually means 0 - this was already recoded by LMV\n",
    "# number of children = -9 actually means 0 - this was already recoded by LMV\n",
    "\n",
    "# This cell creates a set of labels for whether or not a value is missing in the outcomes\n",
    "\n",
    "missing_predictors = list(set(list(df.columns)) - set(['W3_Dep_Total','W3_GAD_Total','W2_Attach_Style']))\n",
    "\n",
    "w2_missing_label = []\n",
    "\n",
    "for i in range(len(dfw2)):\n",
    "    \n",
    "    missing_var_val = dfw2.iloc[i]['W2_Attach_Style']\n",
    "    \n",
    "    if missing_var_val == -99:\n",
    "        w2_missing_label.append(1)\n",
    "    else:\n",
    "        w2_missing_label.append(0)\n",
    "        \n",
    "\n",
    "w2_missing_label = np.asarray(w2_missing_label) \n",
    "print('num missing w2: ', 100*w2_missing_label.sum() / len(w2_missing_label), len(w2_missing_label))\n",
    "\n",
    "w2_3_missing_label = []\n",
    "\n",
    "for i in range(len(df)):\n",
    "\n",
    "    missing_var_val_att = df.iloc[i]['W2_Attach_Style']\n",
    "    missing_var_val_dep = df.iloc[i]['W3_Dep_Total']\n",
    "    missing_var_val_gad = df.iloc[i]['W3_GAD_Total']\n",
    "    \n",
    "    missing_var_vals = [missing_var_val_att,missing_var_val_dep,missing_var_val_gad]\n",
    "    \n",
    "    if np.isnan(np.asarray(missing_var_vals)).sum() > 0:\n",
    "        w2_3_missing_label.append(1)\n",
    "    else:\n",
    "        w2_3_missing_label.append(0)\n",
    "        \n",
    "w2_3_missing_label = np.asarray(w2_3_missing_label)        \n",
    "print('num missing w2 w3: ', 100*w2_3_missing_label.sum() / len(w2_3_missing_label), len(w2_3_missing_label))"
   ]
  },
  {
   "cell_type": "code",
   "execution_count": null,
   "id": "5017340b",
   "metadata": {},
   "outputs": [],
   "source": []
  },
  {
   "cell_type": "code",
   "execution_count": 63,
   "id": "4b1a97ff",
   "metadata": {},
   "outputs": [
    {
     "name": "stdout",
     "output_type": "stream",
     "text": [
      "Optimization terminated successfully.\n",
      "         Current function value: 0.214319\n",
      "         Iterations 8\n",
      "                           Logit Regression Results                           \n",
      "==============================================================================\n",
      "Dep. Variable:                      y   No. Observations:                 1406\n",
      "Model:                          Logit   Df Residuals:                     1390\n",
      "Method:                           MLE   Df Model:                           15\n",
      "Date:                Tue, 11 Apr 2023   Pseudo R-squ.:                 0.02733\n",
      "Time:                        10:53:10   Log-Likelihood:                -301.33\n",
      "converged:                       True   LL-Null:                       -309.80\n",
      "Covariance Type:            nonrobust   LLR p-value:                    0.3229\n",
      "===========================================================================================\n",
      "                              coef    std err          z      P>|z|      [0.025      0.975]\n",
      "-------------------------------------------------------------------------------------------\n",
      "W2_Children_household       0.1219      0.156      0.782      0.434      -0.184       0.427\n",
      "W2_Keyworker                0.4539      0.265      1.716      0.086      -0.065       0.972\n",
      "W2_Chronic_illness_self     0.0711      0.271      0.262      0.793      -0.461       0.603\n",
      "W2_Relationship             0.0358      0.056      0.642      0.521      -0.073       0.145\n",
      "W2_COVID19_anxiety          0.0047      0.005      0.943      0.346      -0.005       0.015\n",
      "W2_Hygiene_total           -0.0472      0.013     -3.496      0.000      -0.074      -0.021\n",
      "W2_Dep_Total                0.0109      0.045      0.244      0.807      -0.077       0.099\n",
      "W2_Change_Income            0.0007      0.005      0.145      0.884      -0.009       0.010\n",
      "W2_Risk_total              -0.0481      0.027     -1.760      0.078      -0.102       0.005\n",
      "W2_Age_year                 0.0164      0.009      1.924      0.054      -0.000       0.033\n",
      "W2_Adults_household        -0.1636      0.148     -1.109      0.268      -0.453       0.126\n",
      "W2_Pregnant                -0.2732      0.809     -0.338      0.736      -1.858       1.312\n",
      "W2_GAD_Total               -0.0504      0.049     -1.026      0.305      -0.147       0.046\n",
      "W2_Gender                  -0.1161      0.225     -0.516      0.606      -0.558       0.325\n",
      "W2_RISK_1month             -0.0050      0.005     -0.976      0.329      -0.015       0.005\n",
      "W2_Loneliness_Total        -0.1355      0.085     -1.602      0.109      -0.301       0.030\n",
      "===========================================================================================\n",
      "Optimization terminated successfully.\n",
      "         Current function value: 0.587237\n",
      "         Iterations 5\n",
      "                           Logit Regression Results                           \n",
      "==============================================================================\n",
      "Dep. Variable:                      y   No. Observations:                 1406\n",
      "Model:                          Logit   Df Residuals:                     1390\n",
      "Method:                           MLE   Df Model:                           15\n",
      "Date:                Tue, 11 Apr 2023   Pseudo R-squ.:                 0.06801\n",
      "Time:                        10:53:10   Log-Likelihood:                -825.65\n",
      "converged:                       True   LL-Null:                       -885.90\n",
      "Covariance Type:            nonrobust   LLR p-value:                 1.518e-18\n",
      "===========================================================================================\n",
      "                              coef    std err          z      P>|z|      [0.025      0.975]\n",
      "-------------------------------------------------------------------------------------------\n",
      "W2_Children_household       0.2245      0.076      2.963      0.003       0.076       0.373\n",
      "W2_Keyworker                0.1746      0.135      1.293      0.196      -0.090       0.439\n",
      "W2_Chronic_illness_self    -0.1382      0.143     -0.966      0.334      -0.419       0.142\n",
      "W2_Relationship             0.0294      0.027      1.090      0.276      -0.023       0.082\n",
      "W2_COVID19_anxiety          0.0033      0.003      1.198      0.231      -0.002       0.009\n",
      "W2_Hygiene_total           -0.0067      0.007     -0.964      0.335      -0.020       0.007\n",
      "W2_Dep_Total                0.0468      0.020      2.333      0.020       0.007       0.086\n",
      "W2_Change_Income           -0.0013      0.002     -0.551      0.581      -0.006       0.003\n",
      "W2_Risk_total              -0.0062      0.010     -0.608      0.543      -0.026       0.014\n",
      "W2_Age_year                -0.0266      0.004     -6.206      0.000      -0.035      -0.018\n",
      "W2_Adults_household        -0.0037      0.065     -0.056      0.955      -0.131       0.124\n",
      "W2_Pregnant                 0.4173      0.286      1.458      0.145      -0.144       0.978\n",
      "W2_GAD_Total               -0.0258      0.022     -1.200      0.230      -0.068       0.016\n",
      "W2_Gender                   0.2340      0.112      2.089      0.037       0.014       0.454\n",
      "W2_RISK_1month              0.0047      0.003      1.831      0.067      -0.000       0.010\n",
      "W2_Loneliness_Total        -0.0344      0.040     -0.864      0.388      -0.112       0.044\n",
      "===========================================================================================\n"
     ]
    }
   ],
   "source": [
    "# undertake logistic regression using the predictor variables specified above for both W2 and W2+W3 cases\n",
    "\n",
    "\n",
    "X_w2 = dfw2[missing_predictors]\n",
    "y_w2 = w2_missing_label\n",
    "\n",
    "log_reg_w2 = sm.Logit(y_w2, X_w2).fit()\n",
    "print(log_reg_w2.summary())\n",
    "\n",
    "\n",
    "X_w2_3 = df[missing_predictors]\n",
    "y_w2_3 = w2_3_missing_label\n",
    "\n",
    "log_reg_w2_3 = sm.Logit(y_w2_3, X_w2_3).fit()\n",
    "print(log_reg_w2_3.summary())\n"
   ]
  },
  {
   "cell_type": "code",
   "execution_count": 65,
   "id": "c3791fc8",
   "metadata": {},
   "outputs": [
    {
     "data": {
      "text/plain": [
       "['W2_Children_household',\n",
       " 'W2_Keyworker',\n",
       " 'W2_Chronic_illness_self',\n",
       " 'W2_Relationship',\n",
       " 'W2_COVID19_anxiety',\n",
       " 'W2_Hygiene_total',\n",
       " 'W2_Dep_Total',\n",
       " 'W2_Change_Income',\n",
       " 'W2_Risk_total',\n",
       " 'W2_Age_year',\n",
       " 'W2_Adults_household',\n",
       " 'W2_Pregnant',\n",
       " 'W2_GAD_Total',\n",
       " 'W2_Gender',\n",
       " 'W2_RISK_1month',\n",
       " 'W2_Loneliness_Total']"
      ]
     },
     "execution_count": 65,
     "metadata": {},
     "output_type": "execute_result"
    }
   ],
   "source": [
    "missing_predictors"
   ]
  },
  {
   "cell_type": "code",
   "execution_count": null,
   "id": "7b3c6968",
   "metadata": {},
   "outputs": [],
   "source": []
  },
  {
   "cell_type": "code",
   "execution_count": null,
   "id": "cacfe493",
   "metadata": {},
   "outputs": [],
   "source": []
  }
 ],
 "metadata": {
  "kernelspec": {
   "display_name": "Python 3 (ipykernel)",
   "language": "python",
   "name": "python3"
  },
  "language_info": {
   "codemirror_mode": {
    "name": "ipython",
    "version": 3
   },
   "file_extension": ".py",
   "mimetype": "text/x-python",
   "name": "python",
   "nbconvert_exporter": "python",
   "pygments_lexer": "ipython3",
   "version": "3.9.13"
  }
 },
 "nbformat": 4,
 "nbformat_minor": 5
}
